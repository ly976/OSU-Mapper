{
 "cells": [
  {
   "cell_type": "code",
   "execution_count": 115,
   "metadata": {},
   "outputs": [
    {
     "name": "stdout",
     "output_type": "stream",
     "text": [
      "['D:\\\\tandon\\\\AI_for_game\\\\osu_project\\\\139677 Demetori - Hoshi no Utsuwa - Casket of Star\\\\139677 Demetori - Hoshi no Utsuwa ~ Casket of Star']\n"
     ]
    }
   ],
   "source": [
    "import os  \n",
    "import csv\n",
    "import numpy\n",
    "def load_song_path(dir_path):\n",
    "    main_dir_path = dir_path\n",
    "    os.chdir(main_dir_path)\n",
    "    dir_list = os.listdir()\n",
    "    song_path = []\n",
    "    for dir_name in dir_list:\n",
    "        song_path.append(main_dir_path + '\\\\' + dir_name)\n",
    "    return song_path\n",
    "songs_path = load_song_path(\"D:\\\\tandon\\\\AI_for_game\\\\osu_project\\\\139677 Demetori - Hoshi no Utsuwa - Casket of Star\")\n"
   ]
  },
  {
   "cell_type": "code",
   "execution_count": 122,
   "metadata": {},
   "outputs": [
    {
     "name": "stdout",
     "output_type": "stream",
     "text": [
      "Train_result_ Lunatic.csv\n",
      "D:\\tandon\\AI_for_game\\osu_project\\139677 Demetori - Hoshi no Utsuwa - Casket of Star\\139677 Demetori - Hoshi no Utsuwa ~ Casket of Star\n",
      "[[  0.00000000e+00   0.00000000e+00   1.00000000e+00 ...,  -1.84297022e-14\n",
      "   -6.88338275e-15   1.15463195e-14]\n",
      " [  0.00000000e+00   0.00000000e+00   0.00000000e+00 ...,  -1.84297022e-14\n",
      "   -6.88338275e-15   1.15463195e-14]\n",
      " [  0.00000000e+00   0.00000000e+00   0.00000000e+00 ...,  -1.84297022e-14\n",
      "   -6.88338275e-15   1.15463195e-14]\n",
      " ..., \n",
      " [  0.00000000e+00   0.00000000e+00   0.00000000e+00 ...,   0.00000000e+00\n",
      "    0.00000000e+00   0.00000000e+00]\n",
      " [  0.00000000e+00   0.00000000e+00   0.00000000e+00 ...,   0.00000000e+00\n",
      "    0.00000000e+00   0.00000000e+00]\n",
      " [  0.00000000e+00   0.00000000e+00   0.00000000e+00 ...,   0.00000000e+00\n",
      "    0.00000000e+00   0.00000000e+00]]\n",
      "Train_result_Normal.csv\n",
      "D:\\tandon\\AI_for_game\\osu_project\\139677 Demetori - Hoshi no Utsuwa - Casket of Star\\139677 Demetori - Hoshi no Utsuwa ~ Casket of Star\n",
      "[[  0.00000000e+00   0.00000000e+00   1.00000000e+00 ...,  -1.84297022e-14\n",
      "   -6.88338275e-15   1.15463195e-14]\n",
      " [  0.00000000e+00   0.00000000e+00   0.00000000e+00 ...,  -1.84297022e-14\n",
      "   -6.88338275e-15   1.15463195e-14]\n",
      " [  0.00000000e+00   0.00000000e+00   0.00000000e+00 ...,  -1.84297022e-14\n",
      "   -6.88338275e-15   1.15463195e-14]\n",
      " ..., \n",
      " [  0.00000000e+00   0.00000000e+00   0.00000000e+00 ...,   0.00000000e+00\n",
      "    0.00000000e+00   0.00000000e+00]\n",
      " [  0.00000000e+00   0.00000000e+00   0.00000000e+00 ...,   0.00000000e+00\n",
      "    0.00000000e+00   0.00000000e+00]\n",
      " [  0.00000000e+00   0.00000000e+00   0.00000000e+00 ...,   0.00000000e+00\n",
      "    0.00000000e+00   0.00000000e+00]]\n",
      "Train_result_sjoy's Hard.csv\n",
      "D:\\tandon\\AI_for_game\\osu_project\\139677 Demetori - Hoshi no Utsuwa - Casket of Star\\139677 Demetori - Hoshi no Utsuwa ~ Casket of Star\n",
      "[[  0.00000000e+00   0.00000000e+00   1.00000000e+00 ...,  -1.84297022e-14\n",
      "   -6.88338275e-15   1.15463195e-14]\n",
      " [  0.00000000e+00   0.00000000e+00   0.00000000e+00 ...,  -1.84297022e-14\n",
      "   -6.88338275e-15   1.15463195e-14]\n",
      " [  0.00000000e+00   0.00000000e+00   0.00000000e+00 ...,  -1.84297022e-14\n",
      "   -6.88338275e-15   1.15463195e-14]\n",
      " ..., \n",
      " [  0.00000000e+00   0.00000000e+00   0.00000000e+00 ...,   0.00000000e+00\n",
      "    0.00000000e+00   0.00000000e+00]\n",
      " [  0.00000000e+00   0.00000000e+00   0.00000000e+00 ...,   0.00000000e+00\n",
      "    0.00000000e+00   0.00000000e+00]\n",
      " [  0.00000000e+00   0.00000000e+00   0.00000000e+00 ...,   0.00000000e+00\n",
      "    0.00000000e+00   0.00000000e+00]]\n",
      "Train_result_sjoy's Insane.csv\n",
      "D:\\tandon\\AI_for_game\\osu_project\\139677 Demetori - Hoshi no Utsuwa - Casket of Star\\139677 Demetori - Hoshi no Utsuwa ~ Casket of Star\n",
      "[[  0.00000000e+00   0.00000000e+00   1.00000000e+00 ...,  -1.84297022e-14\n",
      "   -6.88338275e-15   1.15463195e-14]\n",
      " [  0.00000000e+00   0.00000000e+00   0.00000000e+00 ...,  -1.84297022e-14\n",
      "   -6.88338275e-15   1.15463195e-14]\n",
      " [  0.00000000e+00   0.00000000e+00   0.00000000e+00 ...,  -1.84297022e-14\n",
      "   -6.88338275e-15   1.15463195e-14]\n",
      " ..., \n",
      " [  0.00000000e+00   0.00000000e+00   0.00000000e+00 ...,   0.00000000e+00\n",
      "    0.00000000e+00   0.00000000e+00]\n",
      " [  0.00000000e+00   0.00000000e+00   0.00000000e+00 ...,   0.00000000e+00\n",
      "    0.00000000e+00   0.00000000e+00]\n",
      " [  0.00000000e+00   0.00000000e+00   0.00000000e+00 ...,   0.00000000e+00\n",
      "    0.00000000e+00   0.00000000e+00]]\n",
      "Train_result_Yoeri's Easy.csv\n",
      "D:\\tandon\\AI_for_game\\osu_project\\139677 Demetori - Hoshi no Utsuwa - Casket of Star\\139677 Demetori - Hoshi no Utsuwa ~ Casket of Star\n",
      "[[  0.00000000e+00   0.00000000e+00   1.00000000e+00 ...,  -1.84297022e-14\n",
      "   -6.88338275e-15   1.15463195e-14]\n",
      " [  0.00000000e+00   0.00000000e+00   0.00000000e+00 ...,  -1.84297022e-14\n",
      "   -6.88338275e-15   1.15463195e-14]\n",
      " [  0.00000000e+00   0.00000000e+00   0.00000000e+00 ...,  -1.84297022e-14\n",
      "   -6.88338275e-15   1.15463195e-14]\n",
      " ..., \n",
      " [  0.00000000e+00   0.00000000e+00   0.00000000e+00 ...,   0.00000000e+00\n",
      "    0.00000000e+00   0.00000000e+00]\n",
      " [  0.00000000e+00   0.00000000e+00   0.00000000e+00 ...,   0.00000000e+00\n",
      "    0.00000000e+00   0.00000000e+00]\n",
      " [  0.00000000e+00   0.00000000e+00   0.00000000e+00 ...,   0.00000000e+00\n",
      "    0.00000000e+00   0.00000000e+00]]\n"
     ]
    }
   ],
   "source": [
    "\n",
    "def load_training_tensor(songs_path):\n",
    "    data_input = numpy.array([])\n",
    "    data_output = numpy.array([])\n",
    "    for song_path in songs_path:\n",
    "        os.chdir(song_path)\n",
    "        for dirpaths, dirnames, filenames in os.walk(\".\", topdown = False):\n",
    "            for filename in filenames:\n",
    "                if filename.endswith('.csv'):\n",
    "                    print(filename)\n",
    "                    print (song_path)\n",
    "                    content_matrix = numpy.loadtxt(song_path+'\\\\'+filename,delimiter=\",\",skiprows=0)\n",
    "                    #print(content_matrix)\n",
    "                    x = numpy.array(content_matrix)\n",
    "                    x.resize(24000,18)\n",
    "                    X = x[:,0:-3]\n",
    "                    Y = x[:,-3:]\n",
    "                    print(X)\n",
    "                    data_input = numpy.vstack([data_input, X]) if data_input.size else X\n",
    "                    data_output = numpy.vstack([data_output, Y]) if data_output.size else Y\n",
    "    data_input = numpy.array(data_input)\n",
    "    data_output = numpy.array(data_output)\n",
    "    numpy.savetxt('D:\\\\tandon\\\\AI_for_game\\\\osu_project\\\\training_input.csv', data_input, delimiter = ',') \n",
    "    numpy.savetxt('D:\\\\tandon\\\\AI_for_game\\\\osu_project\\\\training_output.csv', data_output, delimiter = ',')\n",
    "load_training_tensor(songs_path)\n"
   ]
  },
  {
   "cell_type": "code",
   "execution_count": 70,
   "metadata": {},
   "outputs": [],
   "source": [
    "fakedata = [[1,2,3,1,2,3,1,2,3,1,2,3],[1,2,3,1,2,3,1,2,3,1,2,3]]\n",
    "file_path = 'D:\\\\Program Files\\\\osu!\\\\Songs\\\\13019 Daisuke Achiwa - BASARA\\\\fake.csv'\n",
    "\n",
    "numpy.savetxt(file_path, fakedata, delimiter=',')\n",
    "content_matrix = numpy.loadtxt(open(song_path+'\\\\'+filename,\"rb\"),delimiter=\",\",skiprows=0)"
   ]
  },
  {
   "cell_type": "code",
   "execution_count": 114,
   "metadata": {},
   "outputs": [
    {
     "name": "stdout",
     "output_type": "stream",
     "text": [
      "[[1 2 3 1 2 3 1 2 3]\n",
      " [1 2 3 1 2 3 1 2 3]\n",
      " [0 0 0 0 0 0 0 0 0]\n",
      " [0 0 0 0 0 0 0 0 0]]\n",
      "[[1 2 4]\n",
      " [1 2 4]\n",
      " [0 0 0]\n",
      " [0 0 0]]\n"
     ]
    }
   ],
   "source": [
    "fakedata = [[1,2,3,1,2,3,1,2,3,1,2,4],[1,2,3,1,2,3,1,2,3,1,2,4]]\n",
    "x = numpy.array(fakedata)\n",
    "x.resize(4,12)\n",
    "X = x[:,0:-3]\n",
    "Y = x[:,-3:]\n",
    "print(X)\n",
    "print(Y)"
   ]
  },
  {
   "cell_type": "code",
   "execution_count": null,
   "metadata": {
    "collapsed": true
   },
   "outputs": [],
   "source": []
  }
 ],
 "metadata": {
  "kernelspec": {
   "display_name": "Python 3",
   "language": "python",
   "name": "python3"
  },
  "language_info": {
   "codemirror_mode": {
    "name": "ipython",
    "version": 3
   },
   "file_extension": ".py",
   "mimetype": "text/x-python",
   "name": "python",
   "nbconvert_exporter": "python",
   "pygments_lexer": "ipython3",
   "version": "3.5.3"
  }
 },
 "nbformat": 4,
 "nbformat_minor": 2
}
