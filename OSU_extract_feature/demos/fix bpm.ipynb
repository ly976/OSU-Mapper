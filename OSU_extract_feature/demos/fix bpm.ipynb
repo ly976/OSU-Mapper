{
 "cells": [
  {
   "cell_type": "code",
   "execution_count": 10,
   "metadata": {
    "collapsed": false
   },
   "outputs": [
    {
     "data": {
      "text/plain": [
       "[(0.24380952380952381, 0.40634920634920635),\n",
       " (0.47600907029478456, 1.3931972789115645),\n",
       " (0.46439909297052157, 204.2659410430839),\n",
       " (0.45278911564625851, 204.99736961451248),\n",
       " (0.4295691609977324, 205.27600907029478),\n",
       " (0.4179591836734694, 205.8332879818594),\n",
       " (0.3831292517006803, 206.51827664399093)]"
      ]
     },
     "execution_count": 10,
     "metadata": {},
     "output_type": "execute_result"
    }
   ],
   "source": [
    "# We'll need numpy for some mathematical operations\n",
    "import numpy as np\n",
    "import sys\n",
    "\n",
    "import librosa\n",
    "\n",
    "\n",
    "#audio_path = \"/Users/willian/Github/OSU-Mapper/osu-audio-feature-extract/Data/Beatmaps/355132 KOTOKO - BLAZE/fluff.mp3\"\n",
    "#audio_path = \"/Users/willian/Github/OSU-Mapper/osu-audio-feature-extract/Data/Beatmaps/406217 Chata - enn/ehh.mp3\"\n",
    "audio_path = \"/Applications/osu!.app/Contents/Resources/drive_c/osu!/Songs/13019 Daisuke Achiwa - BASARA/BASARA.mp3\"\n",
    "#audio_path = \"/Applications/osu!.app/Contents/Resources/drive_c/osu!/Songs/151878 Chasers - Lost/Chasers - Lost.mp3\"\n",
    "\n",
    "y, sr = librosa.load(audio_path,sr=None)\n",
    "\n",
    "o_env = librosa.onset.onset_strength(y, sr=sr)\n",
    "\n",
    "dtempo = librosa.beat.tempo(onset_envelope=o_env, sr=sr,\n",
    "                            aggregate=None)\n",
    "# print (len(dtempo))\n",
    "\n",
    "times = librosa.frames_to_time(np.arange(len(o_env)), sr=sr)\n",
    "\n",
    "arr_bpm = []\n",
    "pre = dtempo[0]\n",
    "# print (pre)\n",
    "for i in range(1, len(dtempo)):\n",
    "    tmp = dtempo[i]\n",
    "    if (dtempo[i] != pre):\n",
    "        arr_bpm.append((60/pre,times[i]))\n",
    "        pre = tmp\n",
    "\n",
    "arr_bpm.append((60/pre, times[len(dtempo)-1]))\n",
    "#print (arr_bpm)\n",
    "#arr_bpm = [(spb, endtime)]\n",
    "arr_bpm"
   ]
  },
  {
   "cell_type": "code",
   "execution_count": 7,
   "metadata": {
    "collapsed": false
   },
   "outputs": [],
   "source": [
    "from itertools import islice\n",
    "\n",
    "def window(seq, n=2):\n",
    "    \"Returns a sliding window (of width n) over data from the iterable\"\n",
    "    \"   s -> (s0,s1,...s[n-1]), (s1,s2,...,sn), ...                   \"\n",
    "    it = iter(seq)\n",
    "    result = tuple(islice(it, n))\n",
    "    if len(result) == n:\n",
    "        yield result    \n",
    "    for elem in it:\n",
    "        result = result[1:] + (elem,)\n",
    "        yield result"
   ]
  },
  {
   "cell_type": "code",
   "execution_count": 8,
   "metadata": {
    "collapsed": false
   },
   "outputs": [],
   "source": [
    "hop_length= 512\n",
    "onset_times = librosa.onset.onset_detect(y=y, sr=sr, hop_length=hop_length, precise=True,\n",
    "                                         units='time')\n",
    "\n",
    "#onset_times = times[onset_frames]\n",
    "\n",
    "whichBPM = 0\n",
    "thisTuple = arr_bpm[whichBPM]\n",
    "lastTuple = (0,0);\n",
    "arr_statistics = []\n",
    "thisOnset = [0]\n",
    "aggragatedOnsets = []\n",
    "thisOnsets = []\n",
    "# print(onset_times)\n",
    "for onsetTime in onset_times:\n",
    "    (thisSPB, thisEndtime) = thisTuple\n",
    "#     print(thisTuple)\n",
    "    if onsetTime > thisEndtime:\n",
    "        aggragatedOnsets.append(thisOnsets)\n",
    "#         arr_statistics.append([lastTuple[1]*1000, 60/thisTuple[0], int(np.median(thisOnset)*1000)])\n",
    "#         lastTuple = arr_bpm[whichBPM]\n",
    "        thisOnsets = []\n",
    "        whichBPM += 1\n",
    "        thisTuple = arr_bpm[whichBPM]\n",
    "    thisOnsets.append(onsetTime)\n",
    "    #thisSPB = thisTuple[0]\n",
    "#     thisOnset = (onsetTime-lastTuple[1]) % thisSPB\n",
    "aggragatedOnsets.append(thisOnsets)\n",
    "# arr_statistics.append([lastTuple[1]*1000, 60/thisTuple[0], int(np.median(thisOnset)*1000)])\n",
    "\n",
    "#[startTime, BPM, offset]\n",
    "# arr_statistics\n",
    "#aggragatedOnsets"
   ]
  },
  {
   "cell_type": "code",
   "execution_count": 9,
   "metadata": {
    "collapsed": false
   },
   "outputs": [
    {
     "name": "stdout",
     "output_type": "stream",
     "text": [
      "beats:  3\n",
      "median:  164.716135458\n",
      "newBPM:  165.159174465\n",
      "beats:  100\n",
      "median:  169.441598361\n",
      "newBPM:  170.275698105\n",
      "beats:  152\n",
      "median:  170.841942149\n",
      "newBPM:  170.140316665\n",
      "beats:  1\n",
      "beats:  1\n",
      "beats:  1\n",
      "beats:  1\n",
      "beats:  1\n",
      "beats:  1\n",
      "beats:  1\n",
      "beats:  1\n",
      "beats:  6\n",
      "median:  85.4209710744\n",
      "newBPM:  85.5391190288\n",
      "beats:  4\n",
      "median:  84.0320121951\n",
      "newBPM:  84.9041235691\n",
      "beats:  71\n",
      "median:  86.1328125\n",
      "newBPM:  85.1569699392\n",
      "beats:  5\n",
      "median:  112.347146739\n",
      "newBPM:  nan\n",
      "beats:  2\n",
      "beats:  5\n",
      "median:  84.8947638604\n",
      "newBPM:  84.8994176894\n",
      "beats:  10\n",
      "median:  160.247093023\n",
      "newBPM:  169.680946466\n",
      "beats:  10\n",
      "median:  166.708669355\n",
      "newBPM:  170.202946069\n",
      "beats:  1\n",
      "beats:  394\n",
      "median:  170.841942149\n",
      "newBPM:  170.211184542\n",
      "beats:  90\n",
      "median:  170.841942149\n",
      "newBPM:  170.334800089\n",
      "beats:  23\n",
      "median:  169.441598361\n",
      "newBPM:  169.83974523\n",
      "beats:  10\n",
      "median:  95.703125\n",
      "newBPM:  95.9318879577\n"
     ]
    },
    {
     "name": "stderr",
     "output_type": "stream",
     "text": [
      "/Users/willian/anaconda3/lib/python3.6/site-packages/numpy/core/_methods.py:59: RuntimeWarning: Mean of empty slice.\n",
      "  warnings.warn(\"Mean of empty slice.\", RuntimeWarning)\n",
      "/Users/willian/anaconda3/lib/python3.6/site-packages/numpy/core/_methods.py:70: RuntimeWarning: invalid value encountered in double_scalars\n",
      "  ret = ret.dtype.type(ret / rcount)\n"
     ]
    }
   ],
   "source": [
    "from itertools import compress\n",
    "from collections import Counter\n",
    "for onsets in aggragatedOnsets:\n",
    "    print(\"beats: \",len(onsets))\n",
    "    if(len(onsets)>2):\n",
    "        windowsize = 1\n",
    "        hop_length = 512\n",
    "        timeIntervals = [(w[windowsize]-w[0])/windowsize for w in window(onsets, windowsize+1)]\n",
    "        #quantiles = range(1,100,10)\n",
    "        #print(list(quantiles))\n",
    "        #print(60/np.percentile(timeIntervals, q=quantiles))\n",
    "        \n",
    "        #\n",
    "        median = np.median(timeIntervals)\n",
    "        print(\"median: \",30/median)\n",
    "        bpm = 60/median\n",
    "        theshold = (60/bpm)-(60/(bpm*1.10))\n",
    "        bigThreshold = median + theshold\n",
    "        smallThreshold = median - theshold\n",
    "        #\n",
    "        for i in range(0,2):\n",
    "            timeIntervals = [interval/2 if interval > median*1.5 else interval\n",
    "                            for interval\n",
    "                            in timeIntervals ]\n",
    "#         for i in range(0,3):\n",
    "#             timeIntervals = [interval*2 if interval < median/1.5 else interval\n",
    "#                             for interval\n",
    "#                             in timeIntervals ]\n",
    "        #\n",
    "        timeIntervals = [interval\n",
    "                        for interval\n",
    "                        in timeIntervals \n",
    "                        if interval<bigThreshold and interval>smallThreshold]\n",
    "\n",
    "        #\n",
    "        timeIntervals = [30/inteval for inteval in timeIntervals]\n",
    "        #print(\"count: \",Counter(timeIntervals))\n",
    "        #print(np.percentile(timeIntervals, q=quantiles))\n",
    "        print(\"newBPM: \", np.mean(timeIntervals))\n",
    "        #print(set(framesIntervalForBPM))"
   ]
  },
  {
   "cell_type": "markdown",
   "metadata": {},
   "source": [
    "# Useless"
   ]
  },
  {
   "cell_type": "code",
   "execution_count": 81,
   "metadata": {
    "collapsed": false
   },
   "outputs": [],
   "source": [
    "for onsets in aggragatedOnsets:\n",
    "    if(len(onsets)):\n",
    "        print(60/np.median([w[1]-w[0] for w in window(onsets, 2)]))"
   ]
  },
  {
   "cell_type": "code",
   "execution_count": null,
   "metadata": {
    "collapsed": true
   },
   "outputs": [],
   "source": []
  },
  {
   "cell_type": "code",
   "execution_count": 145,
   "metadata": {
    "collapsed": false
   },
   "outputs": [
    {
     "name": "stdout",
     "output_type": "stream",
     "text": [
      "{0.24380952380952392, 0.1160997732426301, 0.10448979591836727, 0.10448979591836771, 0.12770975056689338, 0.11609977324263099, 0.16253968253968232, 0.069659863945577882, 0.22058956916099781, 0.24380952380952348, 0.24380952380952436, 0.10448979591836682, 0.1044897959183686, 0.2089795918367372, 0.19736961451247126, 0.70820861678004121, 0.46439909297049553, 0.081269841269829612, 0.092879818594104435, 4.0402721088435385, 0.092879818594106212, 0.13931972789114866, 0.092879818594099106, 0.046439909297049553, 0.081269841269840271, 0.47600907029477924, 0.46439909297050974, 0.68498866213151643, 0.058049886621319047, 0.68498866213151999, 0.34829931972788586, 0.46439909297051685, 0.26702947845805092, 0.11609977324263809, 0.4643990929705204, 0.12770975056689426, 0.35990929705215535, 0.46439909297052395, 0.25541950113378675, 0.45278911564625446, 0.24380952380951726, 0.22058956916100669, 0.23219954648524777, 0.11609977324260967, 0.12770975056687917, 0.24380952380952081, 0.45278911564625801, 0.12770975056690759, 0.37151927437642485, 0.24380952380952259, 0.32507936507937529, 0.081269841269858034, 0.13931972789115576, 0.23219954648525487, 0.45278911564626156, 0.23219954648527619, 0.47600907029479345, 0.23219954648525842, 0.22058956916097827, 0.81269841269840981, 0.38312925170069434, 0.2321995464852602, 0.23219954648526198, 0.11609977324262388, 0.22058956916099248, 0.45278911564626867, 0.24380952380953147, 0.10448979591835439, 0.13931972789116287, 0.24380952380954568, 0.22058956916099604, 0.058049886621290625, 0.11609977324262921, 0.34829931972791428, 0.22058956916099959, 0.10448979591836149, 0.20897959183673009, 0.9287981859410479, 0.20897959183673365, 0.45278911564628288}\n"
     ]
    }
   ],
   "source": [
    "interval = 1\n",
    "hop_length = 512\n",
    "onset_frames = librosa.onset.onset_detect(onset_envelope=o_env, sr=sr, hop_length=hop_length)    \n",
    "onset_times = librosa.frames_to_time(onset_frames,sr=sr, hop_length=hop_length)\n",
    "framesIntervalForBPM = [(w[interval]-w[0])/interval for w in window(onset_times, interval+1)]\n",
    "#print(framesIntervalForBPM)\n",
    "print(set(framesIntervalForBPM))"
   ]
  },
  {
   "cell_type": "code",
   "execution_count": 139,
   "metadata": {
    "collapsed": false
   },
   "outputs": [
    {
     "data": {
      "text/plain": [
       "(129.19921875,\n",
       " array([   2.65868481,    3.1230839 ,    3.59909297,    4.06349206,\n",
       "           4.5046712 ,    4.96907029,    5.44507937,    5.90947846,\n",
       "           6.36226757,    6.82666667,    7.29106576,    7.76707483,\n",
       "           8.2430839 ,    8.67265306,    9.16027211,    9.61306122,\n",
       "          10.05424036,   10.51863946,   10.98303855,   11.44743764,\n",
       "          11.90022676,   12.36462585,   12.81741497,   13.28181406,\n",
       "          13.74621315,   14.21061224,   14.67501134,   15.13941043,\n",
       "          15.59219955,   16.05659864,   16.52099773,   16.98539683,\n",
       "          17.43818594,   17.90258503,   18.36698413,   18.83138322,\n",
       "          19.28417234,   19.74857143,   20.21297052,   20.67736961,\n",
       "          21.13015873,   21.59455782,   22.05895692,   22.52335601,\n",
       "          22.97614512,   23.44054422,   23.90494331,   24.3693424 ,\n",
       "          24.82213152,   25.28653061,   25.75092971,   26.2153288 ,\n",
       "          26.66811791,   27.13251701,   27.5969161 ,   28.06131519,\n",
       "          28.51410431,   28.9785034 ,   29.44290249,   29.89569161,\n",
       "          30.3600907 ,   30.83609977,   31.28888889,   31.75328798,\n",
       "          32.2060771 ,   32.67047619,   33.13487528,   33.59927438,\n",
       "          34.05206349,   34.51646259,   34.98086168,   35.44526077,\n",
       "          35.89804989,   36.36244898,   36.82684807,   37.30285714,\n",
       "          37.75564626,   38.20843537,   38.67283447,   39.13723356,\n",
       "          39.60163265,   40.05442177,   40.51882086,   40.98321995,\n",
       "          41.43600907,   41.90040816,   42.36480726,   42.82920635,\n",
       "          43.28199546,   43.74639456,   44.21079365,   44.67519274,\n",
       "          45.13959184,   45.60399093,   46.05678005,   46.52117914,\n",
       "          46.98557823,   47.43836735,   47.90276644,   48.36716553,\n",
       "          48.81995465,   49.28435374,   49.74875283,   50.20154195,\n",
       "          50.66594104,   51.13034014,   51.59473923,   52.05913832,\n",
       "          52.51192744,   52.97632653,   53.44072562,   53.89351474,\n",
       "          54.35791383,   54.82231293,   55.28671202,   55.75111111,\n",
       "          56.20390023,   56.66829932,   57.13269841,   57.58548753,\n",
       "          58.04988662,   58.51428571,   58.97868481,   59.4430839 ,\n",
       "          59.89587302,   60.36027211,   60.8246712 ,   61.28907029,\n",
       "          61.75346939,   62.2062585 ,   62.6706576 ,   63.13505669,\n",
       "          63.59945578,   64.0522449 ,   64.51664399,   64.98104308,\n",
       "          65.44544218,   65.89823129,   66.36263039,   66.82702948,\n",
       "          67.29142857,   67.74421769,   68.20861678,   68.67301587,\n",
       "          69.12580499,   69.59020408,   70.05460317,   70.51900227,\n",
       "          70.98340136,   71.44780045,   71.90058957,   72.35337868,\n",
       "          72.82938776,   73.28217687,   73.74657596,   74.21097506,\n",
       "          74.67537415,   75.13977324,   75.59256236,   76.05696145,\n",
       "          76.52136054,   76.98575964,   77.43854875,   77.90294785,\n",
       "          78.36734694,   78.82013605,   79.28453515,   79.74893424,\n",
       "          80.21333333,   80.67773243,   81.13052154,   81.59492063,\n",
       "          82.05931973,   82.52371882,   82.97650794,   83.44090703,\n",
       "          83.90530612,   84.36970522,   84.82249433,   85.28689342,\n",
       "          85.75129252,   86.21569161,   86.66848073,   87.13287982,\n",
       "          87.59727891,   88.061678  ,   88.51446712,   88.97886621,\n",
       "          89.44326531,   89.9076644 ,   90.36045351,   90.82485261,\n",
       "          91.2892517 ,   91.75365079,   92.20643991,   92.670839  ,\n",
       "          93.1352381 ,   93.59963719,   94.0524263 ,   94.5168254 ,\n",
       "          94.98122449,   95.44562358,   95.8984127 ,   96.36281179,\n",
       "          96.82721088,   97.29160998,   97.74439909,   98.20879819,\n",
       "          98.67319728,   99.13759637,   99.59038549,  100.05478458,\n",
       "         100.51918367,  100.98358277,  101.43637188,  101.90077098,\n",
       "         102.36517007,  102.82956916,  103.28235828,  103.74675737,\n",
       "         104.21115646,  104.67555556,  105.12834467,  105.59274376,\n",
       "         106.05714286,  106.52154195,  106.97433107,  107.43873016,\n",
       "         107.90312925,  108.36752834,  108.83192744,  109.28471655,\n",
       "         109.74911565,  110.21351474,  110.67791383,  111.14231293,\n",
       "         111.59510204,  112.05950113,  112.51229025,  112.97668934,\n",
       "         113.44108844,  113.90548753,  114.36988662,  114.82267574,\n",
       "         115.28707483,  115.75147392,  116.21587302,  116.66866213,\n",
       "         117.13306122,  117.59746032,  118.06185941,  118.51464853,\n",
       "         118.97904762,  119.44344671,  119.9078458 ,  120.3722449 ,\n",
       "         120.82503401,  121.28943311,  121.7538322 ,  122.21823129,\n",
       "         122.67102041,  123.1354195 ,  123.59981859,  124.05260771,\n",
       "         124.5170068 ,  124.9814059 ,  125.44580499,  125.91020408,\n",
       "         126.3629932 ,  126.82739229,  127.29179138,  127.75619048,\n",
       "         128.20897959,  128.67337868,  129.13777778,  129.60217687,\n",
       "         130.05496599,  130.51936508,  130.98376417,  131.43655329,\n",
       "         131.90095238,  132.36535147,  132.82975057,  133.29414966,\n",
       "         133.74693878,  134.21133787,  134.67573696,  135.12852608,\n",
       "         135.59292517,  136.05732426,  136.52172336,  136.98612245,\n",
       "         137.43891156,  137.90331066,  138.36770975,  138.83210884,\n",
       "         139.28489796,  139.74929705,  140.21369615,  140.67809524,\n",
       "         141.13088435,  141.59528345,  142.05968254,  142.52408163,\n",
       "         142.97687075,  143.44126984,  143.90566893,  144.37006803,\n",
       "         144.82285714,  145.28725624,  145.75165533,  146.21605442,\n",
       "         146.66884354,  147.13324263,  147.59764172,  148.05043084,\n",
       "         148.51482993,  148.97922902,  149.44362812,  149.90802721,\n",
       "         150.36081633,  150.82521542,  151.28961451,  151.75401361,\n",
       "         152.20680272,  152.67120181,  153.13560091,  153.6       ,\n",
       "         154.05278912,  154.51718821,  154.9815873 ,  155.44598639,\n",
       "         155.89877551,  156.3631746 ,  156.8275737 ,  157.29197279,\n",
       "         157.7447619 ,  158.209161  ,  158.67356009,  159.13795918,\n",
       "         159.5907483 ,  160.06675737,  160.51954649,  160.98394558,\n",
       "         161.43673469,  161.90113379,  162.36553288,  162.82993197,\n",
       "         163.29433107,  163.75873016,  164.21151927,  164.67591837,\n",
       "         165.14031746,  165.59310658,  166.05750567,  166.52190476,\n",
       "         166.97469388,  167.43909297,  167.90349206,  168.36789116,\n",
       "         168.82068027,  169.28507937,  169.74947846,  170.22548753,\n",
       "         170.67827664,  171.13106576,  171.59546485,  172.05986395,\n",
       "         172.52426304,  172.97705215,  173.44145125,  173.90585034,\n",
       "         174.35863946,  174.82303855,  175.28743764,  175.75183673,\n",
       "         176.20462585,  176.66902494,  177.13342404,  177.59782313,\n",
       "         178.06222222,  178.52662132,  178.97941043,  179.44380952,\n",
       "         179.90820862,  180.36099773,  180.82539683,  181.28979592,\n",
       "         181.74258503,  182.20698413,  182.67138322,  183.13578231,\n",
       "         183.58857143,  184.05297052,  184.51736961,  184.99337868,\n",
       "         185.4461678 ,  185.89895692,  186.36335601,  186.8277551 ,\n",
       "         187.2921542 ,  187.74494331,  188.2093424 ,  188.6737415 ,\n",
       "         189.13814059,  189.60253968,  190.0553288 ,  190.51972789,\n",
       "         190.98412698,  191.4369161 ,  191.90131519,  192.36571429,\n",
       "         192.83011338,  193.29451247,  193.74730159,  194.21170068,\n",
       "         194.67609977,  195.14049887,  195.62811791,  196.08090703,\n",
       "         196.53369615,  196.92843537,  197.38122449,  197.83401361,\n",
       "         198.28680272,  198.73959184,  199.19238095,  199.64517007,\n",
       "         200.09795918,  200.5507483 ]))"
      ]
     },
     "execution_count": 139,
     "metadata": {},
     "output_type": "execute_result"
    }
   ],
   "source": [
    "librosa.beat.beat_track(y=y, sr=sr, units='time')"
   ]
  },
  {
   "cell_type": "code",
   "execution_count": 155,
   "metadata": {
    "collapsed": false
   },
   "outputs": [
    {
     "data": {
      "text/plain": [
       "[(0.24380952380952381, 0.40634920634920635),\n",
       " (0.47600907029478456, 1.3931972789115645),\n",
       " (0.46439909297052157, 204.2659410430839),\n",
       " (0.45278911564625851, 204.99736961451248),\n",
       " (0.4295691609977324, 205.27600907029478),\n",
       " (0.4179591836734694, 205.8332879818594),\n",
       " (0.3831292517006803, 206.51827664399093)]"
      ]
     },
     "execution_count": 155,
     "metadata": {},
     "output_type": "execute_result"
    }
   ],
   "source": [
    "arr_bpm\n"
   ]
  },
  {
   "cell_type": "code",
   "execution_count": null,
   "metadata": {
    "collapsed": true
   },
   "outputs": [],
   "source": []
  }
 ],
 "metadata": {
  "kernelspec": {
   "display_name": "Python 3",
   "language": "python",
   "name": "python3"
  },
  "language_info": {
   "codemirror_mode": {
    "name": "ipython",
    "version": 3
   },
   "file_extension": ".py",
   "mimetype": "text/x-python",
   "name": "python",
   "nbconvert_exporter": "python",
   "pygments_lexer": "ipython3",
   "version": "3.6.0"
  }
 },
 "nbformat": 4,
 "nbformat_minor": 2
}
